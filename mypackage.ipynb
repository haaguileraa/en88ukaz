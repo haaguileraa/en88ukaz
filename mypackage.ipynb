{
 "cells": [
  {
   "cell_type": "code",
   "execution_count": null,
   "id": "c1c396dc",
   "metadata": {},
   "outputs": [],
   "source": [
    "import numpy as np\n",
    "from ipywidgets\n",
    "import interact, fixed from PIL\n",
    "import Image \n",
    "def imshow(X , resize = None): \n",
    "    \"\"\"\n",
    "   You should create a way to resize an image from an array X.\n",
    "   The use of widgets is optional but you can take a look to interact.\n",
    "   We should be able to install this package in Google Colab from your Git\n",
    "   repo.\n",
    "    \n",
    "    \"\"\"\n",
    "    pass"
   ]
  }
 ],
 "metadata": {
  "kernelspec": {
   "display_name": "Python 3.8.12 64-bit ('DSSS': conda)",
   "language": "python",
   "name": "python3812jvsc74a57bd084676891b0901a0f93f9c7f1bd7ada18b2c357c5848ebc60beeaa3d0e23ca069"
  },
  "language_info": {
   "codemirror_mode": {
    "name": "ipython",
    "version": 3
   },
   "file_extension": ".py",
   "mimetype": "text/x-python",
   "name": "python",
   "nbconvert_exporter": "python",
   "pygments_lexer": "ipython3",
   "version": "3.9.7"
  }
 },
 "nbformat": 4,
 "nbformat_minor": 5
}
